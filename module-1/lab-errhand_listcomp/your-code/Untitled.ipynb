{
 "cells": [
  {
   "cell_type": "code",
   "execution_count": 6,
   "metadata": {},
   "outputs": [
    {
     "name": "stdout",
     "output_type": "stream",
     "text": [
      "Enter an integer number: 2\n",
      "The Square of a Given Number 2  = <function square at 0x7fdaf071ab00>\n"
     ]
    }
   ],
   "source": [
    "# python program to find square and cube\n",
    "# of a given number\n",
    "\n",
    "\n",
    "def  square (num):\n",
    "\treturn (num*num)\n",
    "\n",
    "\n",
    "def  cube (num):\n",
    "\treturn (num*num*num)\n",
    "\n",
    "\n",
    "# User defind method to find square \n",
    "def square (num):\n",
    "\treturn  (num*num)\n",
    "\n",
    "\n",
    "# Main code \n",
    "\n",
    "# input a number\n",
    "number = int(input(\"Enter an integer number: \"))\n",
    "\n",
    "# square and cube\n",
    "print(\"The Square of a Given Number {0}  = {1}\".format(number, square))\n"
   ]
  },
  {
   "cell_type": "code",
   "execution_count": 10,
   "metadata": {},
   "outputs": [
    {
     "name": "stdout",
     "output_type": "stream",
     "text": [
      "Enter an integer number: 2\n",
      "Square of 2 = 4 \n"
     ]
    }
   ],
   "source": [
    "# Python program to calculate square of a number\n",
    "# Method 1 (using  number*number)\n",
    "\n",
    "# input a number \n",
    "number = int (input(\"Enter an integer number: \"))\n",
    "\n",
    "# calculate square\n",
    "square = number*number\n",
    "\n",
    "# print\n",
    "print (\"Square of {0} = {1} \".format(number, square))\n"
   ]
  },
  {
   "cell_type": "code",
   "execution_count": 4,
   "metadata": {},
   "outputs": [
    {
     "name": "stdout",
     "output_type": "stream",
     "text": [
      " Please Enter any numeric Value : 2\n",
      "The Square of a Given Number 2.0  = 4.0\n"
     ]
    }
   ],
   "source": [
    "# Python Program to Calculate Square of a Number\n",
    "\n",
    "number = float(input(\" Please Enter any numeric Value : \"))\n",
    "\n",
    "square = number * number\n",
    "\n",
    "print(\"The Square of a Given Number {0}  = {1}\".format(number, square))"
   ]
  },
  {
   "cell_type": "code",
   "execution_count": null,
   "metadata": {},
   "outputs": [],
   "source": []
  }
 ],
 "metadata": {
  "kernelspec": {
   "display_name": "Python 3",
   "language": "python",
   "name": "python3"
  },
  "language_info": {
   "codemirror_mode": {
    "name": "ipython",
    "version": 3
   },
   "file_extension": ".py",
   "mimetype": "text/x-python",
   "name": "python",
   "nbconvert_exporter": "python",
   "pygments_lexer": "ipython3",
   "version": "3.7.6"
  }
 },
 "nbformat": 4,
 "nbformat_minor": 4
}
